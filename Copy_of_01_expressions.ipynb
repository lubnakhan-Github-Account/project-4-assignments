{
  "nbformat": 4,
  "nbformat_minor": 0,
  "metadata": {
    "colab": {
      "provenance": [],
      "authorship_tag": "ABX9TyNpQ7yPROjyOs8rUfr7L3tw",
      "include_colab_link": true
    },
    "kernelspec": {
      "name": "python3",
      "display_name": "Python 3"
    },
    "language_info": {
      "name": "python"
    }
  },
  "cells": [
    {
      "cell_type": "markdown",
      "metadata": {
        "id": "view-in-github",
        "colab_type": "text"
      },
      "source": [
        "<a href=\"https://colab.research.google.com/github/lubnakhan-Github-Account/project-4-assignments/blob/main/Copy_of_01_expressions.ipynb\" target=\"_parent\"><img src=\"https://colab.research.google.com/assets/colab-badge.svg\" alt=\"Open In Colab\"/></a>"
      ]
    },
    {
      "cell_type": "markdown",
      "source": [
        "## ***01_dicesimulator***\n",
        "\n",
        "* Simulate rolling two dice, three times. Prints the results of each die roll. This program is used to show how variable scope works.\n",
        "\n",
        "\n"
      ],
      "metadata": {
        "id": "zOeoFVxvTekk"
      }
    },
    {
      "cell_type": "code",
      "execution_count": null,
      "metadata": {
        "colab": {
          "base_uri": "https://localhost:8080/"
        },
        "id": "0G5cpq63TSyb",
        "outputId": "fc88efcc-6acd-48b4-db20-51ab430f66c1"
      },
      "outputs": [
        {
          "output_type": "stream",
          "name": "stdout",
          "text": [
            "dice1 in main() start as: 10\n",
            "Total of two dice is:  7\n",
            "Total of two dice is:  9\n",
            "Total of two dice is:  9\n",
            "dice1 in main() is:10\n"
          ]
        }
      ],
      "source": [
        "import random\n",
        "\n",
        "def roll_dice():\n",
        "  dice1:int = random.randint(1,6)\n",
        "  dice2:int = random.randint(1,6)\n",
        "  total:int = dice1 + dice2\n",
        "  print(\"Total of two dice is: \" , total)\n",
        "\n",
        "def main():\n",
        "  dice1:int = 10\n",
        "  print(\"dice1 in main() start as: \"+ str(dice1))\n",
        "  roll_dice()\n",
        "  roll_dice()\n",
        "  roll_dice()\n",
        "  print(\"dice1 in main() is:\"+ str(dice1) )\n",
        "\n",
        "if __name__==\"__main__\":\n",
        "    main()"
      ]
    },
    {
      "cell_type": "markdown",
      "source": [
        "# ***02_e=mc2***\n",
        "\n",
        "* Write a program that continually reads in mass from the user and then outputs the equivalent energy using Einstein's mass-energy equivalence formula (E stands for energy, m stands for mass, and C is the speed of light:\n",
        "* E = m * c**2\n",
        "\n",
        "* speed of light -- C = 299792458 m/s.\n",
        "\n",
        "* e = m * C^2...\n",
        "\n",
        "\n",
        "\n",
        "\n",
        "* m = 100.0 kg\n",
        "\n",
        "* C = 299792458 m/s  \n",
        "\n",
        "\n",
        "* 8.987551787368176e+18 joules of energy!\n",
        "\n",
        "\n",
        "\n",
        "\n",
        "\n"
      ],
      "metadata": {
        "id": "VJ5ktcbNYwsC"
      }
    },
    {
      "cell_type": "code",
      "source": [
        "c:int = 299792458\n",
        "\n",
        "def energy():\n",
        "  mass_in_kg:float = float(input(\"Enter kilos of mass: \"))\n",
        "  energy_in_joules:float = mass_in_kg* (c**2)\n",
        "  print(\"e = m*C^2\" )\n",
        "  print(\"m = \",str(mass_in_kg) + \" kg\")\n",
        "  print(\"c = \",str(c) + \" m/s\")\n",
        "  print( str(energy_in_joules) +  \" energy in joules\")\n",
        "\n",
        "if __name__==\"__main__\":\n",
        "   energy()\n",
        "\n"
      ],
      "metadata": {
        "colab": {
          "base_uri": "https://localhost:8080/"
        },
        "id": "tf7lhdNlZeHc",
        "outputId": "fa7f66d0-3676-4c23-a395-b4f44c5aa662"
      },
      "execution_count": null,
      "outputs": [
        {
          "output_type": "stream",
          "name": "stdout",
          "text": [
            "Enter kilos of mass: 100\n",
            "e = m*C^2\n",
            "m =  100.0 kg\n",
            "c =  299792458 m/s\n",
            "8.987551787368176e+18 energy in joules\n"
          ]
        }
      ]
    },
    {
      "cell_type": "markdown",
      "source": [
        "# ***03_feet_to_inches***\n",
        "\n",
        "*Converts feet to inches. Feet is an American unit of measurement. There are 12 inches per foot\n",
        "\n",
        "*  12 Inches = 1 Foot\n",
        "\n",
        "\n"
      ],
      "metadata": {
        "id": "Y5NaKEWUj70n"
      }
    },
    {
      "cell_type": "code",
      "source": [
        "def convert_feet():\n",
        "  one_foot:int = 12\n",
        "  feet:int = int(input(\"how many feet do you want to convert: \"))\n",
        "  print(f\"{feet*one_foot} inches\")\n",
        "\n",
        "if __name__==\"__main__\":\n",
        "    convert_feet()\n",
        "\n"
      ],
      "metadata": {
        "colab": {
          "base_uri": "https://localhost:8080/"
        },
        "id": "sPBCEGAVkdM_",
        "outputId": "52ae7377-5b39-4af5-e065-e8543cced15e"
      },
      "execution_count": null,
      "outputs": [
        {
          "output_type": "stream",
          "name": "stdout",
          "text": [
            "how many feet do you want to convert: 2\n",
            "24 inches\n"
          ]
        }
      ]
    },
    {
      "cell_type": "markdown",
      "source": [
        "# ***04_pythagorean_theorem***\n",
        "\n",
        "* Write a program that asks the user for the lengths of the two perpendicular sides of a right triangle and outputs the length of the third side (the hypotenuse) using the Pythagorean theorem!\n",
        "*  Pythagorean theorem: BC ** 2 = AB ** 2 + AC ** 2\n",
        "\n"
      ],
      "metadata": {
        "id": "FWVhrZqUrUjI"
      }
    },
    {
      "cell_type": "code",
      "source": [
        "import math\n",
        "\n",
        "def triangle():\n",
        "  ab:float = float(input(\"Enter the length of AB: \"))\n",
        "  ac:float = float(input(\"Enter the length of AC: \"))\n",
        "  bc:float = math.sqrt(ab**2 + ac**2)\n",
        "  print(f\"The length of side BC is: {bc}\" )\n",
        "\n",
        "if __name__==\"__main__\":\n",
        "   triangle()"
      ],
      "metadata": {
        "id": "N2537QBWsNqy",
        "colab": {
          "base_uri": "https://localhost:8080/"
        },
        "outputId": "ec274d90-426f-4421-c184-cebd27ea5f36"
      },
      "execution_count": null,
      "outputs": [
        {
          "output_type": "stream",
          "name": "stdout",
          "text": [
            "Enter the length of AB: 3\n",
            "Enter the length of AC: 4\n",
            "The length of side BC is: 5.0\n"
          ]
        }
      ]
    },
    {
      "cell_type": "markdown",
      "source": [
        "# ***05_remainder_division***\n",
        "\n",
        "*Ask the user for two numbers, one at a time, and then print the result of dividing the first number by the second and also the remainder of the division.\n",
        "\n",
        "\n"
      ],
      "metadata": {
        "id": "KGvBZzNkkelJ"
      }
    },
    {
      "cell_type": "code",
      "source": [
        "def division():\n",
        "  first_number:int = int(input(\"Please enter an integer to be divided: \"))\n",
        "  second_number:int =int(input(\"Please enter an integer divide by: \"))\n",
        "  quotient:int = first_number // second_number\n",
        "  moduls:int = first_number % second_number\n",
        "  print(f\"The result of this division is {quotient} with a  reminder of {moduls}\")\n",
        "\n",
        "if __name__==\"__main__\":\n",
        "   division()"
      ],
      "metadata": {
        "colab": {
          "base_uri": "https://localhost:8080/"
        },
        "id": "JJukO9STliaP",
        "outputId": "fb6dcf6a-8a86-486b-99f0-10a15b221b1e"
      },
      "execution_count": null,
      "outputs": [
        {
          "output_type": "stream",
          "name": "stdout",
          "text": [
            "Please enter an integer to be divided: 5\n",
            "Please enter an integer divide by: 3\n",
            "The result of this division is 1 with a  reminder of 2\n"
          ]
        }
      ]
    },
    {
      "cell_type": "markdown",
      "source": [
        "# ***06_rolldice***\n",
        "\n",
        "*Simulate rolling two dice, and prints results of each roll as well as the total.\n",
        "\n",
        "\n"
      ],
      "metadata": {
        "id": "tvWVpmyErOH5"
      }
    },
    {
      "cell_type": "code",
      "source": [
        "import random\n",
        "num_sides:int = 6\n",
        "\n",
        "def rolling_dice():\n",
        "  die1:int = random.randint(1,num_sides)\n",
        "  die2:int = random.randint(1,num_sides)\n",
        "  total:int = die1 + die2\n",
        "  print(\"Dice have \", num_sides, \"sides each.\")\n",
        "  print(\"First dice\",die1)\n",
        "  print(\"Second dice\",die2)\n",
        "  print(\"Total of two dice \",total)\n",
        "\n",
        "if __name__==\"__main__\":\n",
        "   rolling_dice()"
      ],
      "metadata": {
        "colab": {
          "base_uri": "https://localhost:8080/"
        },
        "id": "je8hJ4DBkeM4",
        "outputId": "27be7529-77bd-4cd5-c6fe-453b951fabe2"
      },
      "execution_count": null,
      "outputs": [
        {
          "output_type": "stream",
          "name": "stdout",
          "text": [
            "Dice have  6 sides each.\n",
            "First dice 6\n",
            "Second dice 5\n",
            "Total of two dice  11\n"
          ]
        }
      ]
    },
    {
      "cell_type": "markdown",
      "source": [
        "# ***06_seconds_in_year***\n",
        "\n",
        "* Use Python to calculate the number of seconds in a year, and tell the user what the result is in a nice print statement that looks like this (of course the value 5 should be the calculated number instead):\n",
        "\n",
        "\n"
      ],
      "metadata": {
        "id": "N8LINMsGvieD"
      }
    },
    {
      "cell_type": "code",
      "source": [
        "\n",
        "days_per_year:int = 365\n",
        "hour_per_day:int = 24\n",
        "min_per_hour:int = 60\n",
        "second_per_min:int = 60\n",
        "\n",
        "def calculate_seconds():\n",
        "    print(f\"There are {days_per_year*hour_per_day*min_per_hour*second_per_min} seconds in a year.\")\n",
        "\n",
        "if __name__==\"__main__\":\n",
        "   calculate_seconds()\n",
        "\n",
        "\n",
        "\n",
        "\n"
      ],
      "metadata": {
        "colab": {
          "base_uri": "https://localhost:8080/"
        },
        "id": "H8l6vr4hwJIX",
        "outputId": "40e1f8c5-4f27-4705-e5d4-5a80d6e58fc0"
      },
      "execution_count": 18,
      "outputs": [
        {
          "output_type": "stream",
          "name": "stdout",
          "text": [
            "There are 31536000 seconds in a year.\n"
          ]
        }
      ]
    },
    {
      "cell_type": "markdown",
      "source": [
        "# ***07_tiny_mad_lib***\n",
        "\n",
        "*Write a program which prompts the user for an adjective, then a noun, then a verb, and then prints a fun sentence with those words!\n",
        "\n"
      ],
      "metadata": {
        "id": "w3WlScSU_rYN"
      }
    },
    {
      "cell_type": "code",
      "source": [
        "santance:str = \"Code in Place is fun. I learned to program and used Python to make my tiny plant fly!\"\n",
        "\n",
        "def madlib():\n",
        "  adjective:str = input(\"please type an adjective: \")\n",
        "  noun:str = input(\"please type a noun: \")\n",
        "  verb:str = input(\"please type a verb: \")\n",
        "  print(f\"Code in Place is fun. I learned to program and used Python to make my {adjective} {noun} {verb} !\")\n",
        "\n",
        "if __name__==\"__main__\":\n",
        "   madlib()\n"
      ],
      "metadata": {
        "colab": {
          "base_uri": "https://localhost:8080/"
        },
        "id": "w7rDdRN6AK8s",
        "outputId": "aea73c0c-e91a-42ee-ade8-c808c61ffc09"
      },
      "execution_count": 21,
      "outputs": [
        {
          "output_type": "stream",
          "name": "stdout",
          "text": [
            "please type an adjective: new\n",
            "please type a noun: class\n",
            "please type a verb: read\n",
            "Code in Place is fun. I learned to program and used Python to make my new class read !\n"
          ]
        }
      ]
    }
  ]
}