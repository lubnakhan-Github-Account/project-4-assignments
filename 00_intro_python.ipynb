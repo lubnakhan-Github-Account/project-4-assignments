{
  "cells": [
    {
      "cell_type": "markdown",
      "metadata": {
        "id": "view-in-github",
        "colab_type": "text"
      },
      "source": [
        "<a href=\"https://colab.research.google.com/github/lubnakhan-Github-Account/project-4-assignments/blob/main/00_intro_python.ipynb\" target=\"_parent\"><img src=\"https://colab.research.google.com/assets/colab-badge.svg\" alt=\"Open In Colab\"/></a>"
      ]
    },
    {
      "cell_type": "markdown",
      "metadata": {
        "id": "doGO-q--4bvY"
      },
      "source": [
        "## ***01_add_two_numbers***\n",
        "\n",
        "* Write a Python program that takes two integer inputs from the user and calculates their sum.  \n",
        "\n",
        "\n"
      ]
    },
    {
      "cell_type": "code",
      "execution_count": null,
      "metadata": {
        "colab": {
          "base_uri": "https://localhost:8080/"
        },
        "id": "89SKuB_y2xtl",
        "outputId": "d888eafa-ba74-4a17-cd22-507c3b714673"
      },
      "outputs": [
        {
          "name": "stdout",
          "output_type": "stream",
          "text": [
            "Enter your first number: 4\n",
            "Enter your second number: 6\n",
            "The total is 10.\n"
          ]
        }
      ],
      "source": [
        "def add_numbers():\n",
        "  num1: int = int(input(\"Enter your first number: \"))\n",
        "  num2 : int = int(input(\"Enter your second number: \"))\n",
        "  total: int = num1 + num2\n",
        "  print(f\"The total is {total}.\")\n",
        "\n",
        "if  __name__ ==\"__main__\":\n",
        "  add_numbers()"
      ]
    },
    {
      "cell_type": "markdown",
      "metadata": {
        "id": "iyfEeI6i6h0M"
      },
      "source": [
        "***02_agreement_bot.md***\n",
        "\n",
        "* Write a program which asks the user what their favorite animal is, and then always responds with \"My favorite animal is also ___!\" (the blank should be filled in with the user-inputted animal, of course)\n",
        "\n",
        "* Here's a sample run of the program (user input is in bold italics - note the space between the prompt and the user input!):\n",
        "\n",
        "\n",
        "\n"
      ]
    },
    {
      "cell_type": "code",
      "execution_count": null,
      "metadata": {
        "colab": {
          "base_uri": "https://localhost:8080/"
        },
        "id": "qZ1bnRWM7eue",
        "outputId": "9be78d75-3bd8-484d-e9e0-d0a3ddeca660"
      },
      "outputs": [
        {
          "name": "stdout",
          "output_type": "stream",
          "text": [
            "What's your favorite animal? cow\n",
            "My favorite animal is also cow!\n"
          ]
        }
      ],
      "source": [
        "def favorite_animal():\n",
        "  my_favorite:str = input(\"What's your favorite animal? \")\n",
        "\n",
        "  print(f\"My favorite animal is also {my_favorite}!\")\n",
        "\n",
        "if __name__==\"__main__\":\n",
        "  favorite_animal()"
      ]
    },
    {
      "cell_type": "markdown",
      "metadata": {
        "id": "Ckmg8gIe-3yx"
      },
      "source": [
        "# ***03_fahrenheit_to_celsius***\n",
        "\n",
        "\n",
        "* Write a program which prompts the user for a temperature in Fahrenheit (this can be a number with decimal places!) and outputs the temperature converted to Celsius.   \n",
        "* degrees_celsius = (degrees_fahrenheit - 32) * 5.0/9.0\n",
        "\n"
      ]
    },
    {
      "cell_type": "code",
      "execution_count": null,
      "metadata": {
        "colab": {
          "base_uri": "https://localhost:8080/"
        },
        "id": "5QE4IwOA_rvi",
        "outputId": "2a6ce18e-e31f-4893-dcc0-5e69f66cc8bc"
      },
      "outputs": [
        {
          "name": "stdout",
          "output_type": "stream",
          "text": [
            "Enter temperature in Fahrenheit: 76\n",
            "Temperature: 76.0 F = 24.444444444444443 C\n"
          ]
        }
      ],
      "source": [
        "def temperature():\n",
        "  fahrenheit:int = float(input(\"Enter temperature in Fahrenheit: \"))\n",
        "  degrees_celsius = (fahrenheit - 32) * 5.0/9.0\n",
        "  print(f\"Temperature: { fahrenheit} F = {degrees_celsius} C\")\n",
        "\n",
        "if __name__==\"__main__\":\n",
        "  temperature()\n"
      ]
    },
    {
      "cell_type": "markdown",
      "metadata": {
        "id": "QOA8-okvJYVo"
      },
      "source": [
        "# ***04_how_old_are_they***\n",
        "\n",
        "* Write a program to solve this age-related riddle!\n",
        "\n",
        "\n"
      ]
    },
    {
      "cell_type": "code",
      "execution_count": 2,
      "metadata": {
        "colab": {
          "base_uri": "https://localhost:8080/"
        },
        "id": "fpoJ8lFFKAI4",
        "outputId": "4b95084c-01a2-4a0a-a0e7-98916d45ad37"
      },
      "outputs": [
        {
          "output_type": "stream",
          "name": "stdout",
          "text": [
            "Anton is 21\n",
            "Beth is 27\n",
            "Chen is 47\n",
            "Drew is 68\n",
            "Ethan is 47\n"
          ]
        }
      ],
      "source": [
        "def age_riddle():\n",
        "  anton_age:int = 21\n",
        "  beth_age:int = anton_age + 6\n",
        "  beth_present_age:int = 27\n",
        "  chen_age:int = beth_present_age + 20\n",
        "  chen_present_age:int = 47\n",
        "  drew_age:int = chen_present_age + anton_age\n",
        "  ethan_age:int = chen_present_age\n",
        "  print(f\"Anton is {anton_age}\\nBeth is {beth_present_age}\\nChen is {chen_present_age}\\nDrew is {drew_age}\\nEthan is {ethan_age}\")\n",
        "\n",
        "if __name__==\"__main__\":\n",
        "  age_riddle()"
      ]
    },
    {
      "cell_type": "markdown",
      "metadata": {
        "id": "FwC3zARhOQ5e"
      },
      "source": [
        "# ***05_triangle_perimeter***\n",
        "\n",
        "* Prompt the user to enter the lengths of each side of a triangle and then calculate and print the perimeter of the triangle (the sum of all of the side lengths).\n",
        "\n",
        "\n"
      ]
    },
    {
      "cell_type": "code",
      "execution_count": null,
      "metadata": {
        "id": "FVL2Ij4kOnuE",
        "colab": {
          "base_uri": "https://localhost:8080/"
        },
        "outputId": "20ceb22a-fca0-49fa-8657-d63c82d31277"
      },
      "outputs": [
        {
          "output_type": "stream",
          "name": "stdout",
          "text": [
            "What is the length of side 1? 4\n",
            "What is the length of side 2? 4\n",
            "What is the length of side 3? 4\n",
            "The perimeter of the triangle is 12.0 \n"
          ]
        }
      ],
      "source": [
        "def triangle():\n",
        "  side1:float = float(input(\"What is the length of side 1? \"))\n",
        "  side3:float = float(input(\"What is the length of side 3? \"))\n",
        "  side2:float = float(input(\"What is the length of side 2? \"))\n",
        "  perimeter:float = side1 + side2 + side3\n",
        "  print(f\"The perimeter of the triangle is {perimeter} \")\n",
        "\n",
        "if __name__==\"__main__\":\n",
        "  triangle()"
      ]
    },
    {
      "cell_type": "markdown",
      "source": [
        "# ***06_square_number***\n",
        "\n",
        "* Ask the user for a number and print its square (the product of the number times itself).\n",
        "* Type a number to see its square: 4\n",
        "\n",
        "  4.0 squared is 16.0\n",
        "\n"
      ],
      "metadata": {
        "id": "vcz1s3svKWZ7"
      }
    },
    {
      "cell_type": "code",
      "source": [
        "def square_num():\n",
        "  square:float = float(input(\"Type a number to see its square: \"))\n",
        "\n",
        "  print(f\"{square} square is  {square*square}\")\n",
        "\n",
        "if __name__==\"__main__\":\n",
        "  square_num()"
      ],
      "metadata": {
        "colab": {
          "base_uri": "https://localhost:8080/"
        },
        "id": "qaGIk5v5LAj_",
        "outputId": "4e63b89b-64c7-4283-ace1-aa84add34994"
      },
      "execution_count": 9,
      "outputs": [
        {
          "output_type": "stream",
          "name": "stdout",
          "text": [
            "Type a number to see its square: 4\n",
            "4.0 square is  16.0\n"
          ]
        }
      ]
    }
  ],
  "metadata": {
    "colab": {
      "provenance": [],
      "authorship_tag": "ABX9TyNeyjpZ4xd2gqJ9aJCH42FA",
      "include_colab_link": true
    },
    "kernelspec": {
      "display_name": "Python 3",
      "name": "python3"
    },
    "language_info": {
      "name": "python"
    }
  },
  "nbformat": 4,
  "nbformat_minor": 0
}