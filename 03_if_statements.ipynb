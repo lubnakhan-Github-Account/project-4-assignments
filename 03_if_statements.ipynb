{
  "nbformat": 4,
  "nbformat_minor": 0,
  "metadata": {
    "colab": {
      "provenance": [],
      "authorship_tag": "ABX9TyOx+z92feFMvLU8oREUtp72",
      "include_colab_link": true
    },
    "kernelspec": {
      "name": "python3",
      "display_name": "Python 3"
    },
    "language_info": {
      "name": "python"
    }
  },
  "cells": [
    {
      "cell_type": "markdown",
      "metadata": {
        "id": "view-in-github",
        "colab_type": "text"
      },
      "source": [
        "<a href=\"https://colab.research.google.com/github/lubnakhan-Github-Account/project-4-assignments/blob/main/03_if_statements.ipynb\" target=\"_parent\"><img src=\"https://colab.research.google.com/assets/colab-badge.svg\" alt=\"Open In Colab\"/></a>"
      ]
    },
    {
      "cell_type": "markdown",
      "source": [
        "## ***01_print_events***\n",
        "\n",
        "* Write a program that prints the first 20 even numbers.\n",
        "*  use a loop of some sort.\n",
        "\n"
      ],
      "metadata": {
        "id": "kI3B_uTc83Jo"
      }
    },
    {
      "cell_type": "code",
      "execution_count": null,
      "metadata": {
        "colab": {
          "base_uri": "https://localhost:8080/"
        },
        "id": "KYIUBsy38u-_",
        "outputId": "2da5b8c0-bd1c-49fd-ab7e-8987aa1d4a86"
      },
      "outputs": [
        {
          "output_type": "stream",
          "name": "stdout",
          "text": [
            "even numbers 0\n",
            "even numbers 2\n",
            "even numbers 4\n",
            "even numbers 6\n",
            "even numbers 8\n",
            "even numbers 10\n",
            "even numbers 12\n",
            "even numbers 14\n",
            "even numbers 16\n",
            "even numbers 18\n",
            "even numbers 20\n",
            "even numbers 22\n",
            "even numbers 24\n",
            "even numbers 26\n",
            "even numbers 28\n",
            "even numbers 30\n",
            "even numbers 32\n",
            "even numbers 34\n",
            "even numbers 36\n",
            "even numbers 38\n"
          ]
        }
      ],
      "source": [
        "def main():\n",
        "  for i in range(20):\n",
        "   print(f\"even numbers\",i *2)\n",
        "\n",
        "if __name__==\"__main__\":\n",
        "  main()"
      ]
    },
    {
      "cell_type": "markdown",
      "source": [
        "# ***02_international_voting_age***\n",
        "\n",
        "* Write a program which asks a user for their age and lets them know if they can or can't vote in the following three fictional countries.\n",
        "  \n",
        "\n"
      ],
      "metadata": {
        "id": "wB_0rgEr__85"
      }
    },
    {
      "cell_type": "code",
      "source": [
        "peturksbouipo_age:int = 16\n",
        "stanlau_age:int = 25\n",
        "mayengua_age:int = 48\n",
        "\n",
        "def ages():\n",
        "  user_age:int = int(input(\"How old are you: \"))\n",
        "\n",
        "  if user_age >= peturksbouipo_age :\n",
        "    print(\"You can vote in Peturksbouipo where the voting age is: \" + str(peturksbouipo_age) + \".\")\n",
        "  else:\n",
        "      print(\"You cannot vote in Peturksbouipo where the voting age is\" + str(stanlau_age) +\".\")\n",
        "  if user_age >= stanlau_age:\n",
        "    print(\" You can vote in Stanlau where the voting age is \" + str(stanlau_age) + \".\")\n",
        "  else :\n",
        "     print(\"You cannot vote in Stanlau where the voting age is \" + str(stanlau_age) + \".\")\n",
        "  if user_age >= mayengua_age:\n",
        "    print(\"You can vote in Mayengua where the voting age is\" + str(mayengua_age) + \".\")\n",
        "  else:\n",
        "    print(\"You cannot vote in Mayengua where the voting age is \" + str(mayengua_age) + \".\")\n",
        "\n",
        "if __name__==\"__main__\":\n",
        "  ages()\n",
        "\n"
      ],
      "metadata": {
        "colab": {
          "base_uri": "https://localhost:8080/"
        },
        "id": "VJzTtKG3AWRI",
        "outputId": "b34c7dad-0800-41e2-c3aa-00ef0dd89c15"
      },
      "execution_count": 2,
      "outputs": [
        {
          "output_type": "stream",
          "name": "stdout",
          "text": [
            "How old are you: 35\n",
            "You can vote in Peturksbouipo where the voting age is: 16.\n",
            " You can vote in Stanlau where the voting age is 25.\n",
            "You cannot vote in Mayengua where the voting age is 48.\n"
          ]
        }
      ]
    },
    {
      "cell_type": "markdown",
      "source": [
        "# ***03_leap_year***\n",
        "\n",
        "*Write a program that reads a year from the user and tells whether a given year is a leap year or not.\n",
        "\n",
        "\n"
      ],
      "metadata": {
        "id": "qKtL7vw8hBYt"
      }
    },
    {
      "cell_type": "code",
      "source": [
        "def main():\n",
        "  year:int = int(input(\"Please input a year:\"))\n",
        "  if year % 4 == 0:\n",
        "    if year % 100 ==0:\n",
        "      if year % 400 ==0:\n",
        "        print(\"That's a leap year!\")\n",
        "      else:\n",
        "       print(\"That's not a leap year\")\n",
        "    else:\n",
        "      print(\"That's a leap year\")\n",
        "  else:\n",
        "    print(\"That's not a leap year\")\n",
        "if __name__==\"__main__\":\n",
        "  main()\n",
        "\n"
      ],
      "metadata": {
        "colab": {
          "base_uri": "https://localhost:8080/"
        },
        "id": "nz0MAcskjdYU",
        "outputId": "9746c112-6113-4b07-8250-1a3c005c7be9"
      },
      "execution_count": 5,
      "outputs": [
        {
          "output_type": "stream",
          "name": "stdout",
          "text": [
            "Please input a year:2025\n",
            "That's not a leap year\n"
          ]
        }
      ]
    },
    {
      "cell_type": "markdown",
      "source": [
        "# ***04_tall_enough_to_ride***\n",
        "\n",
        "*Write a program which asks the user how tall they are and prints whether or not they're taller than a pre-specified minimum height.\n",
        "* minimum height = 50   \n",
        "\n"
      ],
      "metadata": {
        "id": "PLw90q2nnQZy"
      }
    },
    {
      "cell_type": "code",
      "source": [
        "\n",
        "min_height:int = 50\n",
        "def main():\n",
        "  user_height:int = int(input(\"How tall are you? \"))\n",
        "  if min_height <= user_height:\n",
        "    print(\"You're tall enough to ride!\")\n",
        "  else:\n",
        "      print(\"You're not tall enough to ride!\")\n",
        "\n",
        "if __name__==\"__main__\":\n",
        "  main()"
      ],
      "metadata": {
        "colab": {
          "base_uri": "https://localhost:8080/"
        },
        "id": "8IbAS6Znn1ow",
        "outputId": "973c4f8a-8485-4fa6-fe74-a70ff2b88a13"
      },
      "execution_count": 18,
      "outputs": [
        {
          "output_type": "stream",
          "name": "stdout",
          "text": [
            "How tall are you? 45\n",
            "You're not tall enough to ride!\n"
          ]
        }
      ]
    },
    {
      "cell_type": "markdown",
      "source": [
        "**05_random_numbers***\n",
        "\n",
        "* Print 10 random numbers in the range 1 to 100.\n",
        "* Each time you run your program you should get different numbers  \n",
        "\n"
      ],
      "metadata": {
        "id": "XkPhjAqWrlQw"
      }
    },
    {
      "cell_type": "code",
      "source": [
        "import random\n",
        "\n",
        "def main():\n",
        "  for i in range(10):\n",
        "    num:list[int] = random.randint(1,100)\n",
        "    print(num)\n",
        "if __name__==\"__main__\":\n",
        "  main()\n",
        "\n"
      ],
      "metadata": {
        "colab": {
          "base_uri": "https://localhost:8080/"
        },
        "id": "_jELwB02r_f6",
        "outputId": "7e003b93-7fb2-4185-fd35-892b15612cb7"
      },
      "execution_count": 20,
      "outputs": [
        {
          "output_type": "stream",
          "name": "stdout",
          "text": [
            "69\n",
            "2\n",
            "74\n",
            "11\n",
            "50\n",
            "9\n",
            "98\n",
            "30\n",
            "25\n",
            "16\n"
          ]
        }
      ]
    }
  ]
}