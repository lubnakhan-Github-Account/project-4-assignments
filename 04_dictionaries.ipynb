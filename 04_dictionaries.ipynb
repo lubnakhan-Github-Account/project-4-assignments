{
  "cells": [
    {
      "cell_type": "markdown",
      "metadata": {
        "id": "view-in-github",
        "colab_type": "text"
      },
      "source": [
        "<a href=\"https://colab.research.google.com/github/lubnakhan-Github-Account/project-4-assignments/blob/main/04_dictionaries.ipynb\" target=\"_parent\"><img src=\"https://colab.research.google.com/assets/colab-badge.svg\" alt=\"Open In Colab\"/></a>"
      ]
    },
    {
      "cell_type": "markdown",
      "metadata": {
        "id": "q8_vRRAgw9DN"
      },
      "source": [
        "# ***00_count_nums***\n",
        "\n",
        "* This program counts the number of times each number appears in a list. It uses a dictionary to keep track of the information.\n",
        "\n"
      ]
    },
    {
      "cell_type": "code",
      "execution_count": 9,
      "metadata": {
        "id": "rPUnCfQ3vxWv",
        "colab": {
          "base_uri": "https://localhost:8080/"
        },
        "outputId": "0d1a17cb-59f7-4c38-aed2-60a4a437682f"
      },
      "outputs": [
        {
          "output_type": "stream",
          "name": "stdout",
          "text": [
            "Enter a number (or Exist to quite): 9\n",
            "Enter a number (or Exist to quite): 9\n",
            "Enter a number (or Exist to quite): Exist\n",
            "\n",
            "Number Counts:\n",
            "9 appears 2 times\n"
          ]
        }
      ],
      "source": [
        "def user_number():\n",
        "  num_dict = {}\n",
        "  while True:\n",
        "     num = input(\"Enter a number (or Exist to quite): \")\n",
        "     if num.title() == 'Exist':\n",
        "      break\n",
        "     if num.isdigit():\n",
        "      num = int(num)\n",
        "      num_dict[num] = num_dict.get(num,0) + 1\n",
        "     else:\n",
        "      print(\"Invalad input.please enter a number or 'Exist' .\")\n",
        "\n",
        "  return num_dict\n",
        "\n",
        "def display_num(num_dict):\n",
        "  print(\"\\nNumber Counts:\")\n",
        "  for key,value in num_dict.items():\n",
        "     print(f\"{key} appears {value} times\")\n",
        "\n",
        "\n",
        "if __name__==\"__main__\":\n",
        "  nums = user_number()\n",
        "  display_num(nums)\n",
        "\n",
        "\n",
        "\n",
        "\n",
        "\n",
        "\n",
        "\n",
        "\n",
        "\n",
        "\n",
        "\n"
      ]
    },
    {
      "cell_type": "markdown",
      "metadata": {
        "id": "41wibnOZxJfV"
      },
      "source": [
        "# ***01_phonebook***\n",
        "\n",
        "* In this program we show an example of using dictionaries to keep track of information in a phonebook.\n",
        "  \n",
        "\n"
      ]
    },
    {
      "cell_type": "code",
      "execution_count": null,
      "metadata": {
        "colab": {
          "background_save": true,
          "base_uri": "https://localhost:8080/"
        },
        "id": "TuW2i2LpxYEg",
        "outputId": "555e0582-ce8c-4c1d-819e-39fe45b92d9b"
      },
      "outputs": [
        {
          "name": "stdout",
          "output_type": "stream",
          "text": [
            "\n",
            " phonebook Menu\n",
            "1. add contact\n",
            "2. search contact\n",
            "3.delete contact\n",
            "4.Display contact\n",
            "5.Exist\n",
            "ali added to the phonebook\n",
            "\n",
            " phonebook Menu\n",
            "1. add contact\n",
            "2. search contact\n",
            "3.delete contact\n",
            "4.Display contact\n",
            "5.Exist\n"
          ]
        }
      ],
      "source": [
        "def add_contact(phonebook):\n",
        "  name = input(\"Enter contact name: \")\n",
        "  number = int(input(\"Enter contact number: \"))\n",
        "  if name in phonebook:\n",
        "    print(f\"{name} already exist in phonebook:\")\n",
        "  else:\n",
        "    phonebook[name] = number\n",
        "    print(f\"{name} added to the phonebook\")\n",
        "def search_contact(phonebook):\n",
        "  name = input(\"Enter contact name to search: \")\n",
        "  if name in phonebook:\n",
        "    print(f\"{name}: {phonebook[name]}\")\n",
        "  else:\n",
        "    print(f\"{name} not found in the phonebook.\")\n",
        "def delete_contact(phonebook):\n",
        "  name = input(\"Enter contact name to delete:\")\n",
        "  if name in phonebook:\n",
        "    del phonebook[name]\n",
        "    print(f\"{name} delete from the phonebook.\")\n",
        "  else:\n",
        "    print(f\"{name} not found in phonebook.\")\n",
        "def display_contact(phonebook):\n",
        "  if phonebook:\n",
        "    print(\"\\n phonebook contacts list\")\n",
        "    for name,number in phonebook.items():\n",
        "      print(f\"{name}:{number}\")\n",
        "  else:\n",
        "    print(\"phonebook is empty.\")\n",
        "if __name__==\"__main__\":\n",
        "  phonebook = {}\n",
        "  while True:\n",
        "    print(\"\\n phonebook Menu\")\n",
        "    print(\"1. add contact\")\n",
        "    print(\"2. search contact\")\n",
        "    print(\"3.delete contact\")\n",
        "    print(\"4.Display contact\")\n",
        "    print(\"5.Exist\")\n",
        "    choice = input(\"Enter your choice (1-5)\")\n",
        "\n",
        "    if choice ==\"1\":\n",
        "      add_contact(phonebook)\n",
        "    elif choice == \"2\":\n",
        "      search_contact(phonebook)\n",
        "    elif choice == '3':\n",
        "      delete_contact(phonebook)\n",
        "    elif choice == '4':\n",
        "      display_contact(phonebook)\n",
        "    elif choice == '5':\n",
        "      print(\"Existing phonebook.Goodbye\")\n",
        "      break\n",
        "    else:\n",
        "      print(\"Invalid choice. please enter a number between 1 to 5.\")\n",
        "\n",
        "\n",
        "\n",
        "\n",
        "\n"
      ]
    },
    {
      "cell_type": "markdown",
      "metadata": {
        "id": "la96UpMQZU79"
      },
      "source": [
        "# ***02_pop_up_shop***\n",
        "\n",
        "* Write a program that loops through a dictionary of fruits, prompting the user to see how many of each fruit they want to buy, and then prints out the total combined cost of all of the fruits.\n",
        "\n"
      ]
    },
    {
      "cell_type": "code",
      "execution_count": null,
      "metadata": {
        "colab": {
          "background_save": true,
          "base_uri": "https://localhost:8080/"
        },
        "id": "neAb3dE7asTP",
        "outputId": "861d5546-d777-41ab-b0ac-1bfe3564ff10"
      },
      "outputs": [
        {
          "name": "stdout",
          "output_type": "stream",
          "text": [
            "Your total is: $8\n",
            "Your total is: $14.3\n"
          ]
        }
      ],
      "source": [
        "def main():\n",
        "   fruits = {'apple':4,'banana':2.1,'mango':4,'orange':1.5,'kiwi':3,'melon':5}\n",
        "   total = 0\n",
        "   for fruit_name in fruits:\n",
        "    price = fruits[fruit_name]\n",
        "    amount = int(input(f\"How many {fruit_name } do you want to buy: \"))\n",
        "    total += price *amount\n",
        "    print(f\"Your total is: ${total}\")\n",
        "if __name__==\"__main__\" :\n",
        "  main()\n",
        "\n"
      ]
    },
    {
      "cell_type": "markdown",
      "metadata": {
        "id": "P4_jtLw-jIt6"
      },
      "source": [
        "# ***03_powerful_passwords***\n",
        "\n",
        "* using a hash function called SHA256(...) something as simple as\n",
        "\n",
        "*Fill out the login(...) function for a website that hashes their passwords. Login should return True if an email's stored password hash in stored_logins is the same as the hash of password_to_check.\n",
        "\n",
        "\n",
        "\n"
      ]
    },
    {
      "cell_type": "code",
      "execution_count": 13,
      "metadata": {
        "id": "R49zk4JokY0i",
        "colab": {
          "base_uri": "https://localhost:8080/"
        },
        "outputId": "64549e72-3353-424e-f5c9-cd6824d8f839"
      },
      "outputs": [
        {
          "output_type": "stream",
          "name": "stdout",
          "text": [
            "Entere your email:user2@example.com\n",
            "Enter your password: user2pass\n",
            "Login successfully.\n"
          ]
        }
      ],
      "source": [
        "import hashlib\n",
        "def hash_password(password):\n",
        "  return hashlib.sha256(password.encode()).hexdigest()\n",
        "stored_logins = {\n",
        "    \"user@example.com\":hash_password(\"password098\"),\n",
        "    \"user2@example.com\":hash_password(\"user2pass\")\n",
        "}\n",
        "def login(email,password):\n",
        "  if email in stored_logins:\n",
        "    return stored_logins[email] == hash_password(password)\n",
        "  return False\n",
        "\n",
        "if __name__==\"__main__\":\n",
        "  email = input(\"Entere your email:\")\n",
        "  password = input(\"Enter your password: \")\n",
        "  if login(email,password):\n",
        "    print(\"Login successfully.\")\n",
        "  else:\n",
        "    print(\"Invalid email or password.\")"
      ]
    }
  ],
  "metadata": {
    "colab": {
      "provenance": [],
      "authorship_tag": "ABX9TyOV+M7zqwrzA6AnxGsnkFn3",
      "include_colab_link": true
    },
    "kernelspec": {
      "display_name": "Python 3",
      "name": "python3"
    },
    "language_info": {
      "name": "python"
    }
  },
  "nbformat": 4,
  "nbformat_minor": 0
}