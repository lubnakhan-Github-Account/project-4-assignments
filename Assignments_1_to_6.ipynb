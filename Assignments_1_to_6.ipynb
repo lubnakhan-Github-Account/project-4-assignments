{
  "nbformat": 4,
  "nbformat_minor": 0,
  "metadata": {
    "colab": {
      "provenance": [],
      "authorship_tag": "ABX9TyM47JpCumRwwBSfo+9sHOKy",
      "include_colab_link": true
    },
    "kernelspec": {
      "name": "python3",
      "display_name": "Python 3"
    },
    "language_info": {
      "name": "python"
    }
  },
  "cells": [
    {
      "cell_type": "markdown",
      "metadata": {
        "id": "view-in-github",
        "colab_type": "text"
      },
      "source": [
        "<a href=\"https://colab.research.google.com/github/lubnakhan-Github-Account/project-4-assignments/blob/main/Assignments_1_to_6.ipynb\" target=\"_parent\"><img src=\"https://colab.research.google.com/assets/colab-badge.svg\" alt=\"Open In Colab\"/></a>"
      ]
    },
    {
      "cell_type": "markdown",
      "source": [
        "# ***project 1 Mad libs Python Project***\n",
        "\n"
      ],
      "metadata": {
        "id": "C5UfN1ZOVREM"
      }
    },
    {
      "cell_type": "code",
      "source": [
        "noun = input(\"noun:\")\n",
        "loca = input(\"location: \")\n",
        "adj = input(\"Adjective: \")\n",
        "vrb1 = input(\"verb: \")\n",
        "vrb2 = input(\"verb2: \")\n",
        "famouse_person = input(\"famouse_person \")\n",
        "\n",
        "madlib = f\" I am {noun} from {loca}. computer  programming is so {adj}!. it make me so existed all time because\\nI love to {vrb1}.Stay hydrated and {vrb2} like you are {famouse_person}. \"\n",
        "print(madlib)"
      ],
      "metadata": {
        "colab": {
          "base_uri": "https://localhost:8080/"
        },
        "id": "-7V6lpttVZsd",
        "outputId": "5bd953f7-bd25-4ed7-def9-025e0651a093"
      },
      "execution_count": null,
      "outputs": [
        {
          "output_type": "stream",
          "name": "stdout",
          "text": [
            "noun:David \n",
            "location: New York\n",
            "Adjective: interesting\n",
            "verb: sky diving\n",
            "verb2: jump\n",
            "famouse_person superman\n",
            " I am David  from New York. computer  programming is so interesting!. it make me so existed all time because\n",
            "I love to sky diving.Stay hydrated and jump like you are superman. \n"
          ]
        }
      ]
    },
    {
      "cell_type": "markdown",
      "source": [
        "# ***Project 2: Guess the Number Game Python Project (computer)***"
      ],
      "metadata": {
        "id": "JGiap099bfT8"
      }
    },
    {
      "cell_type": "code",
      "source": [
        "import random\n",
        "\n",
        "def guess_num(x):\n",
        "  random_num = random.randint(1,x)\n",
        "  guess_num = 0\n",
        "  attempt = 0\n",
        "  while guess_num != random_num:\n",
        "    guess_num = int(input(f\"Enter a number bwtween 1 and {x}: \"))\n",
        "    attempt += 1\n",
        "    if guess_num > random_num:\n",
        "      print(\"Your number is too high. Guess again.\")\n",
        "    elif guess_num < random_num:\n",
        "      print(\"Your number is too low.Guess again. \")\n",
        "  print(f\"Congrates! You have guessed the number {random_num} correctly in {attempt} attempted.\")\n",
        "if __name__==\"__main__\":\n",
        "  guess_num(5)\n"
      ],
      "metadata": {
        "colab": {
          "base_uri": "https://localhost:8080/"
        },
        "id": "nyK-iyxXbrMm",
        "outputId": "e88ec368-75fb-4e4f-ed79-8ffa6aa41a7d"
      },
      "execution_count": null,
      "outputs": [
        {
          "output_type": "stream",
          "name": "stdout",
          "text": [
            "Enter a number bwtween 1 and 5: 2\n",
            "Your number is too high. Guess again.\n",
            "Enter a number bwtween 1 and 5: 1\n",
            "Congrates! You have guessed the number 1 correctlly in 2 attempted.\n"
          ]
        }
      ]
    },
    {
      "cell_type": "markdown",
      "source": [
        "# ***Project 3: Guess the Number Game Python Project (user)***"
      ],
      "metadata": {
        "id": "XmgtArZTpT4c"
      }
    },
    {
      "cell_type": "code",
      "source": [
        "# from re import X\n",
        "import random\n",
        "\n",
        "def comp_guess(x):\n",
        "    low = 1\n",
        "    high = X\n",
        "    feedback = ''\n",
        "    while feedback != 'c':\n",
        "       if low != high:\n",
        "         guess = random.randint(low,high)\n",
        "       else:\n",
        "         guess = low\n",
        "       feedback = input(f\"is {guess} too high (H) too low (L) or correct (C) \").lower()\n",
        "       if feedback == 'h':\n",
        "         high = guess -1\n",
        "       elif feedback== 'l':\n",
        "         low = guess +1\n",
        "    print(f\"congrates! computer guessed your number {guess} correctly:\")\n",
        "if __name__==\"__main__\":\n",
        " comp_guess(100)"
      ],
      "metadata": {
        "id": "MYlVpuQMpdhJ",
        "colab": {
          "base_uri": "https://localhost:8080/"
        },
        "outputId": "570657c6-7377-4c3e-96f6-036017cffdbc"
      },
      "execution_count": null,
      "outputs": [
        {
          "output_type": "stream",
          "name": "stdout",
          "text": [
            "is 13 too high (H) too low (L) or correct (C) l\n",
            "is 58 too high (H) too low (L) or correct (C) h\n",
            "is 22 too high (H) too low (L) or correct (C) h\n",
            "is 16 too high (H) too low (L) or correct (C) c\n",
            "congrates! computer guessed your number 16 correctly:\n"
          ]
        }
      ]
    },
    {
      "cell_type": "markdown",
      "source": [
        "# ***Project 4: Rock, paper, scissors Python Project***"
      ],
      "metadata": {
        "id": "rZo2rqQhz2Lo"
      }
    },
    {
      "cell_type": "code",
      "source": [
        "import random\n",
        "def play_game():\n",
        "  user = input(\"what's your choice?'r' for rock:,'p' for paper:, 's' for scissors: \")\n",
        "  computer = random.choice(['r' ,'p','s'])\n",
        "  if user == computer:\n",
        "    return \"tie\"\n",
        "\n",
        "  if is_win(user ,computer):\n",
        "    return 'You won!'\n",
        "  return 'You lost!'\n",
        "\n",
        "def is_win(player,opponent):\n",
        "  if (player == 'r' and opponent == 's') or (player== 's' and opponent== 'p') \\\n",
        "   or (player== 'p'and opponent=='r'):\n",
        "   return True\n",
        "if __name__==\"__main__\":\n",
        "  print(play_game())\n"
      ],
      "metadata": {
        "colab": {
          "base_uri": "https://localhost:8080/"
        },
        "id": "gvpJGUDu0Cq2",
        "outputId": "108f7914-ca70-4f53-f514-8f59cda2cec7"
      },
      "execution_count": null,
      "outputs": [
        {
          "output_type": "stream",
          "name": "stdout",
          "text": [
            "what's your choice?'r' for rock:,'p' for paper:, 's' for scissors: s\n",
            "tie\n"
          ]
        }
      ]
    },
    {
      "cell_type": "markdown",
      "source": [
        "# ***Project 5: Hangman Python Project***"
      ],
      "metadata": {
        "id": "vsIEzzoE6RwZ"
      }
    },
    {
      "cell_type": "code",
      "source": [
        "\n",
        "import random\n",
        "import string\n",
        "# !pip install words\n",
        "# import words\n",
        "words =['sea','sky','books','universe','stars','galaxy','orched','medows','rock','peaks','mountain','lakes']\n",
        "\n",
        "def get_valid_word(words):\n",
        "   word = random.choice(words)\n",
        "   while '-' in word or ''in word:\n",
        "    return word\n",
        "def hangman():\n",
        "  word = get_valid_word(words)\n",
        "  word_letters= set(word)\n",
        "  alphabet = set(string.ascii_uppercase)\n",
        "  used_letters = set()\n",
        "  lives = 6\n",
        "  while len(word_letters) > 0 and lives > 0:\n",
        "    print('you have',lives, 'lives left  and you have uesd these letters.',''.join(used_letters))\n",
        "    word_list = [letter if letter in used_letters else '-' for letter in word ]\n",
        "    print(\"Correct word:\",''.join(word_list))\n",
        "\n",
        "    user_letters = input(\"guess a letter: \").upper()\n",
        "    if user_letters in alphabet - used_letters:\n",
        "      used_letters.add(user_letters)\n",
        "      if user_letters in word_letters:\n",
        "        word_letters.removed(user_letters)\n",
        "      else:\n",
        "        lives = lives -1\n",
        "        print(\"letters in not in words\")\n",
        "    elif user_letters in used_letters:\n",
        "      print(\"You have already used that letter. try again:\")\n",
        "    else:\n",
        "\n",
        "      print(\"Invalid letter.try again.\")\n",
        "  if lives == 0:\n",
        "    print(\"you died, sorry , your word was: \",word)\n",
        "  else:\n",
        "   print(\"you guessed the \", word)\n",
        "\n",
        "if __name__==\"__main__\":\n",
        "  hangman()\n"
      ],
      "metadata": {
        "id": "bqaNJgCI6b6C",
        "colab": {
          "base_uri": "https://localhost:8080/"
        },
        "outputId": "1a6c0dae-fffd-4907-c44f-36c32af16d39"
      },
      "execution_count": 4,
      "outputs": [
        {
          "output_type": "stream",
          "name": "stdout",
          "text": [
            "you have 6 lives left  and you have uesd these letters. \n",
            "Correct word: --------\n",
            "guess a letter: k\n",
            "letters in not in words\n",
            "you have 5 lives left  and you have uesd these letters. K\n",
            "Correct word: --------\n",
            "guess a letter: a\n",
            "letters in not in words\n",
            "you have 4 lives left  and you have uesd these letters. KA\n",
            "Correct word: --------\n",
            "guess a letter: e\n",
            "letters in not in words\n",
            "you have 3 lives left  and you have uesd these letters. KAE\n",
            "Correct word: --------\n",
            "guess a letter: l\n",
            "letters in not in words\n",
            "you have 2 lives left  and you have uesd these letters. LKAE\n",
            "Correct word: --------\n",
            "guess a letter: g\n",
            "letters in not in words\n",
            "you have 1 lives left  and you have uesd these letters. GLKAE\n",
            "Correct word: --------\n",
            "guess a letter: d\n",
            "letters in not in words\n",
            "you died, sorry , your word was:  mountain\n"
          ]
        }
      ]
    },
    {
      "cell_type": "markdown",
      "source": [
        "# ***Project 6: Countdown Timer Python Project***"
      ],
      "metadata": {
        "id": "Itu9nLp45WJu"
      }
    },
    {
      "cell_type": "code",
      "source": [
        "\n",
        "import time\n",
        "def countdown(t):\n",
        "    while t:\n",
        "\n",
        "      print(t)\n",
        "      time.sleep(1)\n",
        "      t -= 1\n",
        "    print(\"countdown complete.\")\n",
        "t = input(\"Enter the time in seconds: \")\n",
        "\n",
        "\n",
        "countdown(int(t))\n",
        "\n"
      ],
      "metadata": {
        "colab": {
          "base_uri": "https://localhost:8080/"
        },
        "id": "N_Snuhc65ppB",
        "outputId": "5a80c3a9-4416-4e6f-d457-62d3b4b91e32"
      },
      "execution_count": 19,
      "outputs": [
        {
          "output_type": "stream",
          "name": "stdout",
          "text": [
            "Enter the time in seconds: 3\n",
            "3\n",
            "2\n",
            "1\n",
            "countdown complete.\n"
          ]
        }
      ]
    }
  ]
}