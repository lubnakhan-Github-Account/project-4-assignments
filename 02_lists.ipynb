{
  "nbformat": 4,
  "nbformat_minor": 0,
  "metadata": {
    "colab": {
      "provenance": [],
      "authorship_tag": "ABX9TyOz9BrKst+LhS9Zlp6mEaFu",
      "include_colab_link": true
    },
    "kernelspec": {
      "name": "python3",
      "display_name": "Python 3"
    },
    "language_info": {
      "name": "python"
    }
  },
  "cells": [
    {
      "cell_type": "markdown",
      "metadata": {
        "id": "view-in-github",
        "colab_type": "text"
      },
      "source": [
        "<a href=\"https://colab.research.google.com/github/lubnakhan-Github-Account/project-4-assignments/blob/main/02_lists.ipynb\" target=\"_parent\"><img src=\"https://colab.research.google.com/assets/colab-badge.svg\" alt=\"Open In Colab\"/></a>"
      ]
    },
    {
      "cell_type": "markdown",
      "source": [
        " ***01_add_many_number***\n",
        "\n",
        "* Write a function that takes a list of numbers and returns the sum of those numbers.\n",
        "\n",
        "\n",
        "\n",
        "\n"
      ],
      "metadata": {
        "id": "2fNTv3iErxpx"
      }
    },
    {
      "cell_type": "code",
      "execution_count": 5,
      "metadata": {
        "colab": {
          "base_uri": "https://localhost:8080/"
        },
        "id": "jyBAN2yfrgY6",
        "outputId": "5251eb3e-ab7b-4bb1-f739-27dac73fb356"
      },
      "outputs": [
        {
          "output_type": "stream",
          "name": "stdout",
          "text": [
            "15\n"
          ]
        }
      ],
      "source": [
        "def add_numbers(numbers)-> int:\n",
        "  num:int = 0\n",
        "  for i in numbers:\n",
        "    num += i\n",
        "  return num\n",
        "\n",
        "def main():\n",
        "  numbers:list[int] = [1,2,3,4,5]\n",
        "  sum = add_numbers(numbers)\n",
        "  print(sum)\n",
        "\n",
        "if __name__==\"__main__\":\n",
        "   main()\n",
        "\n"
      ]
    },
    {
      "cell_type": "markdown",
      "source": [
        "# ***02_double_list***\n",
        "\n",
        "* Write a program that doubles each element in a list of numbers. For example, if you start with this list:\n",
        "\n",
        "numbers = [1, 2, 3, 4]\n",
        "\n",
        "You should end with this list:\n",
        "\n",
        "numbers = [2, 4, 6, 8]\n",
        "\n"
      ],
      "metadata": {
        "id": "MzPwTmSMwlu3"
      }
    },
    {
      "cell_type": "code",
      "source": [
        "def double_list():\n",
        "  num:list[int] = [1,2,3,4]\n",
        "  for i in range(len(num)):\n",
        "    index = num[i]\n",
        "    num[i] = index*2\n",
        "  print(num)\n",
        "\n",
        "if __name__==\"__main__\":\n",
        "  double_list()\n"
      ],
      "metadata": {
        "colab": {
          "base_uri": "https://localhost:8080/"
        },
        "id": "EOOXhTxCxCMp",
        "outputId": "3983a92e-b29f-4075-c188-8f1ba41a4591"
      },
      "execution_count": 7,
      "outputs": [
        {
          "output_type": "stream",
          "name": "stdout",
          "text": [
            "[2, 4, 6, 8]\n"
          ]
        }
      ]
    },
    {
      "cell_type": "markdown",
      "source": [
        "# ***03_erase_canvas***\n",
        "\n",
        "* The canvas consists of a grid of blue 'cells' which are drawn as rectangles on the screen. We then create an eraser rectangle which, when dragged around the canvas, sets all of the rectangles it is in contact with to white\n",
        "\n",
        "\n"
      ],
      "metadata": {
        "id": "qRMyPRKPzLyH"
      }
    },
    {
      "cell_type": "code",
      "source": [
        "print(\"This step is solve in v s code\")"
      ],
      "metadata": {
        "id": "2IbWdKTAzjOa"
      },
      "execution_count": null,
      "outputs": []
    },
    {
      "cell_type": "markdown",
      "source": [
        "# ***04_flowing_with_data_structures***\n",
        "\n",
        "* To see this in action, fill out the add_three_copies(...) function which takes a list and some data and then adds three copies of the data to the list. Don't return anything and see what happens\n",
        "\n",
        "\n"
      ],
      "metadata": {
        "id": "EWHo8fbh0HaH"
      }
    },
    {
      "cell_type": "code",
      "source": [
        "def add_copies(lst, data):\n",
        "  for i in range(3):\n",
        "    lst.append(data)\n",
        "\n",
        "def main():\n",
        "  message = input(\"Enter a message to copy. \")\n",
        "  lst =[]\n",
        "  print(\"Before list:\" ,lst)\n",
        "  add_copies(lst,message)\n",
        "  print(\"After list:\",lst)\n",
        "if __name__==\"__main__\":\n",
        "  main()\n"
      ],
      "metadata": {
        "colab": {
          "base_uri": "https://localhost:8080/"
        },
        "id": "mztt_f0I0rhH",
        "outputId": "c4545af0-c23c-4cc3-da20-16c91b23852c"
      },
      "execution_count": 9,
      "outputs": [
        {
          "output_type": "stream",
          "name": "stdout",
          "text": [
            "Enter a message to copy. hello world\n",
            "Before list: []\n",
            "After list: ['hello world', 'hello world', 'hello world']\n"
          ]
        }
      ]
    },
    {
      "cell_type": "markdown",
      "source": [
        "# ***05_get_first_element***\n",
        "\n",
        "* Fill out the function get_first_element(lst) which takes in a list lst as a parameter and prints the first element in the list. The list is guaranteed to be non-empty. We've written some code for you which prompts the user to input the list one element at a time.\n",
        "\n",
        "\n"
      ],
      "metadata": {
        "id": "SbRZAYqQ3GBr"
      }
    },
    {
      "cell_type": "code",
      "source": [
        "def get_first_element(lst):\n",
        "  print(lst[0])\n",
        "\n",
        "def get_lst():\n",
        "  lst =[]\n",
        "  elem:str = input(\"Enter an element to add the list.\")\n",
        "  while elem != \"\":\n",
        "    lst.append(elem)\n",
        "    elem =input(\"Enter an elementt o add the list.\")\n",
        "  return lst\n",
        "\n",
        "def main():\n",
        "  lst = get_lst()\n",
        "  get_first_element(lst)\n",
        "\n",
        "if __name__==\"__main__\":\n",
        "   main()\n",
        "\n"
      ],
      "metadata": {
        "colab": {
          "base_uri": "https://localhost:8080/"
        },
        "id": "WRkiUKAn3iEl",
        "outputId": "11236fa3-da9a-434d-80de-9be5b30fd8ef"
      },
      "execution_count": 11,
      "outputs": [
        {
          "output_type": "stream",
          "name": "stdout",
          "text": [
            "Enter an element to add the list.k\n",
            "Enter an elementt o add the list.o\n",
            "Enter an elementt o add the list.p\n",
            "Enter an elementt o add the list.\n",
            "k\n"
          ]
        }
      ]
    },
    {
      "cell_type": "markdown",
      "source": [
        "# ***06_get_last_element***\n",
        "\n",
        "* Fill out the function get_last_element(lst) which takes in a list lst as a parameter and prints the last element in the list. The list is guaranteed to be non-empty, but there are no guarantees on its length.\n",
        "\n",
        "\n",
        "\n"
      ],
      "metadata": {
        "id": "Oc982deL68Kk"
      }
    },
    {
      "cell_type": "code",
      "source": [
        "def get_last_element(lst):\n",
        "  print(lst[-1])\n",
        "\n",
        "def get_lst():\n",
        "  lst =[]\n",
        "  elem:str = input(\"Enter an element to add the list.\")\n",
        "  while elem != \"\":\n",
        "    lst.append(elem)\n",
        "    elem =input(\"Enter an elementt o add the list.\")\n",
        "  return lst\n",
        "\n",
        "def main():\n",
        "  lst = get_lst()\n",
        "  get_last_element(lst)\n",
        "\n",
        "if __name__==\"__main__\":\n",
        "   main()"
      ],
      "metadata": {
        "colab": {
          "base_uri": "https://localhost:8080/"
        },
        "id": "k5C7yR7B7QdQ",
        "outputId": "90e533d4-fb42-4565-b2f1-304a7acafa85"
      },
      "execution_count": 12,
      "outputs": [
        {
          "output_type": "stream",
          "name": "stdout",
          "text": [
            "Enter an element to add the list.j\n",
            "Enter an elementt o add the list.k\n",
            "Enter an elementt o add the list.\n",
            "k\n"
          ]
        }
      ]
    },
    {
      "cell_type": "markdown",
      "source": [
        "# ***07_get_list***\n",
        "\n",
        "* Write a program which continuously asks the user to enter values which are added one by one into a list. When the user presses enter without typing anything, print the list.\n",
        "\n"
      ],
      "metadata": {
        "id": "17ZbdtnU78cq"
      }
    },
    {
      "cell_type": "code",
      "source": [
        "def main():\n",
        "  lst =[]\n",
        "  val =input(\"Enter a value to add to the list.\")\n",
        "  while val:\n",
        "    lst.append(val)\n",
        "    val =input(\"Enter a value to add the  list.\")\n",
        "  print(\"Here's the list\",lst)\n",
        "if __name__==\"__main__\":\n",
        "  main()\n"
      ],
      "metadata": {
        "colab": {
          "base_uri": "https://localhost:8080/"
        },
        "id": "hu9g2g7o8P-b",
        "outputId": "443c98bb-06a7-4bf2-f552-c2a11e942bdd"
      },
      "execution_count": 13,
      "outputs": [
        {
          "output_type": "stream",
          "name": "stdout",
          "text": [
            "Enter a value to add to the list.b\n",
            "Enter a value to add the  list.m\n",
            "Enter a value to add the  list.\n",
            "Here's the list ['b', 'm']\n"
          ]
        }
      ]
    },
    {
      "cell_type": "markdown",
      "source": [
        "# ***08_shorten***\n",
        "\n",
        "* Fill out the function shorten(lst) which removes elements from the end of lst, which is a list, and prints each item it removes until lst is MAX_LENGTH items long\n",
        "\n"
      ],
      "metadata": {
        "id": "vRlkHYSd937E"
      }
    },
    {
      "cell_type": "code",
      "source": [
        "max_length:int = 3\n",
        "def shorten(lst):\n",
        "  while len(lst) > max_length:\n",
        "    last_element = lst.pop()\n",
        "    print(last_element)\n",
        "def get_lst():\n",
        "  lst =[]\n",
        "  element =input(\"Enter an element to add to the list.\")\n",
        "  while element !=\"\":\n",
        "    lst.append(element)\n",
        "    element = input(\"Enter an element to add to the list.\")\n",
        "  return lst\n",
        "def main():\n",
        "  lst =get_lst()\n",
        "  shorten(lst)\n",
        "if __name__==\"__main__\":\n",
        "   main()\n",
        "\n",
        "\n"
      ],
      "metadata": {
        "colab": {
          "base_uri": "https://localhost:8080/"
        },
        "id": "WikSkjjp-MnV",
        "outputId": "811c2fe2-35f8-459a-d5e7-2160a06a59a5"
      },
      "execution_count": 17,
      "outputs": [
        {
          "output_type": "stream",
          "name": "stdout",
          "text": [
            "Enter an element to add to the list.b\n",
            "Enter an element to add to the list.nm\n",
            "Enter an element to add to the list.j\n",
            "Enter an element to add to the list.v\n",
            "Enter an element to add to the list.kj\n",
            "Enter an element to add to the list.\n",
            "kj\n",
            "v\n"
          ]
        }
      ]
    }
  ]
}