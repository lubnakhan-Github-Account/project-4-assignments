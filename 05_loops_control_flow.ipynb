{
  "nbformat": 4,
  "nbformat_minor": 0,
  "metadata": {
    "colab": {
      "provenance": [],
      "authorship_tag": "ABX9TyOI3Air4xyTDqjW4wWZKEXu",
      "include_colab_link": true
    },
    "kernelspec": {
      "name": "python3",
      "display_name": "Python 3"
    },
    "language_info": {
      "name": "python"
    }
  },
  "cells": [
    {
      "cell_type": "markdown",
      "metadata": {
        "id": "view-in-github",
        "colab_type": "text"
      },
      "source": [
        "<a href=\"https://colab.research.google.com/github/lubnakhan-Github-Account/project-4-assignments/blob/main/05_loops_control_flow.ipynb\" target=\"_parent\"><img src=\"https://colab.research.google.com/assets/colab-badge.svg\" alt=\"Open In Colab\"/></a>"
      ]
    },
    {
      "cell_type": "markdown",
      "source": [
        "# ***00_guess_my_number***\n",
        "\n",
        "*  Guess My Number\n",
        "\n",
        "\n",
        "* I am thinking of a number between 0 and 99... Enter a guess: 50 Your guess is too high\n",
        "\n"
      ],
      "metadata": {
        "id": "NBODr_UJ6q5x"
      }
    },
    {
      "cell_type": "code",
      "source": [
        "import random\n",
        "def guess_number():\n",
        "  generate_num =random.randint(1,100)\n",
        "  print(\"Iam thinking of a number between 1 and 100...\")\n",
        "  guess = int(input(\"Enter your guess: \"))\n",
        "  while guess != generate_num:\n",
        "    if guess <  generate_num:\n",
        "      print(\"your guess is too low: \")\n",
        "    else:\n",
        "      print(\"your guess is too high: \")\n",
        "    guess = int(input(\"Enter your guess: \"))\n",
        "  print(f\"congratulations your guess is {generate_num}!\")\n",
        "if __name__==\"__main__\":\n",
        "  guess_number()"
      ],
      "metadata": {
        "colab": {
          "base_uri": "https://localhost:8080/"
        },
        "id": "5HGsKMwb_SNl",
        "outputId": "e38e31e4-c185-4d1e-da3c-e125cdb231ca"
      },
      "execution_count": 7,
      "outputs": [
        {
          "output_type": "stream",
          "name": "stdout",
          "text": [
            "Iam thinking of a number between 1 and 100...\n",
            "Enter your guess: 57\n",
            "your guess is too high: \n",
            "Enter your guess: 31\n",
            "your guess is too high: \n",
            "Enter your guess: 27\n",
            "your guess is too high: \n",
            "Enter your guess: 21\n",
            "your guess is too high: \n",
            "Enter your guess: 17\n",
            "your guess is too high: \n",
            "Enter your guess: 13\n",
            "your guess is too low: \n",
            "Enter your guess: 15\n",
            "your guess is too low: \n",
            "Enter your guess: 16\n",
            "congratulations your guess 16\n"
          ]
        }
      ]
    },
    {
      "cell_type": "markdown",
      "source": [
        "# ***01_fibonacci***\n",
        "\n",
        "* Write a program to print terms in the Fibonacci sequence up to a maximum value.\n",
        "* Fib(0) = 0 Fib(1) = 1 Fib(2) = 1 = 0 + 1 Fib(3) = 2 = 1 + 1 Fib(4) = 3 = 1 + 2 Fib(5) = 5 = 2 + 3\n",
        "\n"
      ],
      "metadata": {
        "id": "Yk-FfP69DX09"
      }
    },
    {
      "cell_type": "code",
      "source": [
        "max_value = 10000\n",
        "def main():\n",
        "  a,b = 0,1\n",
        "  print(a, b, end = \" \")\n",
        "\n",
        "  while True:\n",
        "    c = a+b\n",
        "    if c >= max_value:\n",
        "      break\n",
        "    print(c, end= \" \")\n",
        "    a, b = b,c\n",
        "\n",
        "if __name__==\"__main__\":\n",
        "  main()"
      ],
      "metadata": {
        "colab": {
          "base_uri": "https://localhost:8080/"
        },
        "id": "IG9MOY6VD9um",
        "outputId": "e91ae67b-b161-4ef1-bc67-03985683dd48"
      },
      "execution_count": 8,
      "outputs": [
        {
          "output_type": "stream",
          "name": "stdout",
          "text": [
            "0 1 1 2 3 5 8 13 21 34 55 89 144 233 377 610 987 1597 2584 4181 6765 "
          ]
        }
      ]
    },
    {
      "cell_type": "markdown",
      "source": [
        "# **02_print_events**\n",
        "\n",
        "\n",
        "* Write a program that prints the first 20 even numbers. There are several correct approaches, but they all use a loop of some sort. Do no write twenty print statements\n",
        "\n",
        "\n",
        "\n",
        "\n",
        "\n",
        "\n"
      ],
      "metadata": {
        "id": "QGVz_m6rHsZK"
      }
    },
    {
      "cell_type": "code",
      "source": [
        "def main():\n",
        "  for i in range(20):\n",
        "    print(i*2)\n",
        "if __name__==\"__main__\":\n",
        "  main()"
      ],
      "metadata": {
        "colab": {
          "base_uri": "https://localhost:8080/"
        },
        "id": "BWOsP8-6KI4R",
        "outputId": "1c89e562-0d89-4b64-83a3-ba8015a7feff"
      },
      "execution_count": 9,
      "outputs": [
        {
          "output_type": "stream",
          "name": "stdout",
          "text": [
            "0\n",
            "2\n",
            "4\n",
            "6\n",
            "8\n",
            "10\n",
            "12\n",
            "14\n",
            "16\n",
            "18\n",
            "20\n",
            "22\n",
            "24\n",
            "26\n",
            "28\n",
            "30\n",
            "32\n",
            "34\n",
            "36\n",
            "38\n"
          ]
        }
      ]
    },
    {
      "cell_type": "markdown",
      "source": [
        "## ***03_wholesome_machine***\n",
        "\n",
        "*Write a program which prompts the user to type an affirmation of your choice (we'll use \"I am capable of doing anything I put my mind to.\") until they type it correctly\n",
        "  \n",
        "\n"
      ],
      "metadata": {
        "id": "a3w3LTVcK5S8"
      }
    },
    {
      "cell_type": "code",
      "source": [
        "affirmation = \"I am capable of doing anything I put my mind to.\"\n",
        "def main():\n",
        "  while True:\n",
        "    user_input = input(\"Please type the following affermation: \" + affirmation)\n",
        "    if user_input == affirmation:\n",
        "      print(\"Thats right\")\n",
        "      break\n",
        "    else:\n",
        "      print(\"That is not affermation.Please try again.\")\n",
        "if __name__==\"__main__\":\n",
        "  main()\n"
      ],
      "metadata": {
        "colab": {
          "base_uri": "https://localhost:8080/"
        },
        "id": "Uo_EkNV1LVgO",
        "outputId": "b641f3e4-09af-46de-f2ef-e23190fa109e"
      },
      "execution_count": 14,
      "outputs": [
        {
          "output_type": "stream",
          "name": "stdout",
          "text": [
            "Please type the following affermation: I am capable of doing anything I put my mind to.I am capable of doing anything I put my mind to.\n",
            "Thats right\n"
          ]
        }
      ]
    },
    {
      "cell_type": "markdown",
      "source": [
        "# ***04_liftoff***\n",
        "\n",
        "*Write a program that prints out the calls for a spaceship that is about to launch. Countdown from 10 to 1 and then output Liftoff!\n",
        "\n"
      ],
      "metadata": {
        "id": "NGP2nG4ZSWJc"
      }
    },
    {
      "cell_type": "code",
      "source": [
        "def main():\n",
        "  for i in range(10,0, -1):\n",
        "    print(i,end = \" \")\n",
        "  print(\"lift off !\")\n",
        "if __name__==\"__main__\":\n",
        "  main()"
      ],
      "metadata": {
        "colab": {
          "base_uri": "https://localhost:8080/"
        },
        "id": "4J-sp62nSn42",
        "outputId": "8c258bf6-d69e-48a7-d6e8-56aded20e505"
      },
      "execution_count": 17,
      "outputs": [
        {
          "output_type": "stream",
          "name": "stdout",
          "text": [
            "10 9 8 7 6 5 4 3 2 1 lift off !\n"
          ]
        }
      ]
    },
    {
      "cell_type": "markdown",
      "source": [
        "# ***05_double_it***\n",
        "\n",
        "* Write a program that asks a user to enter a number. Your program will then double that number and print out the result. It will repeat that process until the value is 100 or greater.\n",
        "\n"
      ],
      "metadata": {
        "id": "-zCvpVVWTqnU"
      }
    },
    {
      "cell_type": "code",
      "source": [
        "def main():\n",
        "  user_val = int(input(\"Enter a number: \"))\n",
        "  while user_val < 100:\n",
        "    user_val = user_val*2\n",
        "    print(user_val)\n",
        "if __name__==\"__main__\":\n",
        "  main()"
      ],
      "metadata": {
        "colab": {
          "base_uri": "https://localhost:8080/"
        },
        "id": "IIW8XL4vT6_7",
        "outputId": "076e11b4-b11f-47d8-8d36-8be37e2235fb"
      },
      "execution_count": 21,
      "outputs": [
        {
          "output_type": "stream",
          "name": "stdout",
          "text": [
            "Enter a number: 2\n",
            "4\n",
            "8\n",
            "16\n",
            "32\n",
            "64\n",
            "128\n"
          ]
        }
      ]
    }
  ]
}