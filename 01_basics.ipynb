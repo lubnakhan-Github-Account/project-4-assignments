{
  "cells": [
    {
      "cell_type": "markdown",
      "metadata": {
        "id": "view-in-github",
        "colab_type": "text"
      },
      "source": [
        "<a href=\"https://colab.research.google.com/github/lubnakhan-Github-Account/project-4-assignments/blob/main/01_basics.ipynb\" target=\"_parent\"><img src=\"https://colab.research.google.com/assets/colab-badge.svg\" alt=\"Open In Colab\"/></a>"
      ]
    },
    {
      "cell_type": "markdown",
      "metadata": {
        "id": "vvbn3lPc7ayn"
      },
      "source": [
        "# ***00_joke_bot***\n",
        "\n",
        "* If the user enters Joke then we will print out a single joke. Each time the joke is always the same:\n",
        "\n",
        "\n"
      ]
    },
    {
      "cell_type": "code",
      "execution_count": null,
      "metadata": {
        "colab": {
          "base_uri": "https://localhost:8080/"
        },
        "id": "E8-hfq2i8HUe",
        "outputId": "1050b162-2183-4cc5-cdb4-5075053c74d7"
      },
      "outputs": [
        {
          "name": "stdout",
          "output_type": "stream",
          "text": [
            "what do you want ?sorry\n",
            "I only tell jokes.\n"
          ]
        }
      ],
      "source": [
        "prompt = \"what do you want ?\"\n",
        "jokes = \"\"\"Here is a joke for you! Sophia is heading out to the grocery store.\n",
        " A programmer tells her: get a liter of milk, and if they have eggs, get 12.\n",
        " Sophia returns with 13 liters of milk. The programmer asks why and Sophia replies: 'because they had eggs'\"\"\"\n",
        "sorry = \"I only tell jokes.\"\n",
        "\n",
        "def joke_bot():\n",
        "  user_input = input(prompt).strip().lower()\n",
        "  if \"jokes\" in user_input:\n",
        "    print(jokes)\n",
        "  else:\n",
        "    print(sorry)\n",
        "if __name__==\"__main__\":\n",
        "  joke_bot()"
      ]
    },
    {
      "cell_type": "markdown",
      "metadata": {
        "id": "x41KHQxxMfEF"
      },
      "source": [
        "# ***01_double_it***\n",
        "\n",
        "* Write a program that asks a user to enter a number. Your program will then double that number and print out the result. It will repeat that process until the value is 100 or greater.\n",
        "\n"
      ]
    },
    {
      "cell_type": "code",
      "execution_count": null,
      "metadata": {
        "colab": {
          "base_uri": "https://localhost:8080/"
        },
        "id": "tRbn6xkQM14U",
        "outputId": "f47e10fb-5cd9-4e9f-b45d-e2c53cd60201"
      },
      "outputs": [
        {
          "name": "stdout",
          "output_type": "stream",
          "text": [
            " Enter a number: 2\n",
            "4\n",
            "8\n",
            "16\n",
            "32\n",
            "64\n",
            "128\n"
          ]
        }
      ],
      "source": [
        "def main():\n",
        "  curr_value = int(input(\" Enter a number: \"))\n",
        "  while curr_value < 100:\n",
        "    curr_value= curr_value*2\n",
        "    print(curr_value)\n",
        "if __name__==\"__main__\":\n",
        "  main()\n",
        "\n"
      ]
    },
    {
      "cell_type": "markdown",
      "metadata": {
        "id": "FFOVmmj3QDeW"
      },
      "source": [
        "# ***02_liftoff***\n",
        "\n",
        "* Write a program that prints out the calls for a spaceship that is about to launch. Countdown from 10 to 1 and then output Liftoff!\n",
        "\n",
        "\n",
        "\n"
      ]
    },
    {
      "cell_type": "code",
      "execution_count": null,
      "metadata": {
        "colab": {
          "base_uri": "https://localhost:8080/"
        },
        "id": "MokmP2_8Qj65",
        "outputId": "110b08a4-e3ff-4c05-b95c-f3131a9dbfb4"
      },
      "outputs": [
        {
          "name": "stdout",
          "output_type": "stream",
          "text": [
            "10 9 8 7 6 5 4 3 2 1 lift off !\n"
          ]
        }
      ],
      "source": [
        "def main():\n",
        "  for i in range(10,0,-1):\n",
        "   print(i , end= \" \")\n",
        "  print('lift off !')\n",
        "if __name__==\"__main__\":\n",
        "  main()\n"
      ]
    },
    {
      "cell_type": "markdown",
      "metadata": {
        "id": "cIw7-9daVtAX"
      },
      "source": [
        "# ***03_guess_my_number***\n",
        "\n",
        "*I am thinking of a number between 0 and 99... Enter a guess: 50 Your guess is too high\n",
        "\n",
        "*Guess My Number\n",
        "\n",
        "\n",
        "\n"
      ]
    },
    {
      "cell_type": "code",
      "source": [
        "import random\n",
        "def guess(x):\n",
        "   random_num = random.randint(1,x)\n",
        "   guess = 0\n",
        "   while guess != random_num:\n",
        "     guess = int(input(f\"guess a number between 1 and {x}: \"))\n",
        "     if guess < random_num:\n",
        "       print(\"Your guess is too low. \")\n",
        "     elif guess >  random_num:\n",
        "      print(\"Your guess is too high. \")\n",
        "   print(\"congrates! your guess is correct. \")\n",
        "guess(5)\n"
      ],
      "metadata": {
        "colab": {
          "base_uri": "https://localhost:8080/"
        },
        "id": "4keX8dQ4hRX8",
        "outputId": "0bb2d020-9444-441d-a686-e8b1e23ff630"
      },
      "execution_count": 27,
      "outputs": [
        {
          "output_type": "stream",
          "name": "stdout",
          "text": [
            "guess a number between 1 and 5: 2\n",
            "Your guess is too high. \n",
            "guess a number between 1 and 5: 1\n",
            "congrates! your guess is correct. \n"
          ]
        }
      ]
    },
    {
      "cell_type": "markdown",
      "source": [
        "# ***04_random_numbers***\n",
        "\n",
        "\n",
        "* Print 10 random numbers in the range 1 to 100.\n",
        "\n",
        "\n",
        "\n"
      ],
      "metadata": {
        "id": "K2y3t0qfofpa"
      }
    },
    {
      "cell_type": "code",
      "source": [
        "import random\n",
        "for i in range(10):\n",
        "  print(random.randint(1,100))\n"
      ],
      "metadata": {
        "colab": {
          "base_uri": "https://localhost:8080/"
        },
        "id": "7O6zxV3Jo3oY",
        "outputId": "692529f9-ae1b-40fd-820f-e6fd41a3b740"
      },
      "execution_count": 32,
      "outputs": [
        {
          "output_type": "stream",
          "name": "stdout",
          "text": [
            "96\n",
            "1\n",
            "64\n",
            "67\n",
            "26\n",
            "92\n",
            "75\n",
            "31\n",
            "53\n",
            "79\n"
          ]
        }
      ]
    }
  ],
  "metadata": {
    "colab": {
      "provenance": [],
      "authorship_tag": "ABX9TyO82OYoPDz4iYoI1IniNxJn",
      "include_colab_link": true
    },
    "kernelspec": {
      "display_name": "Python 3",
      "name": "python3"
    },
    "language_info": {
      "name": "python"
    }
  },
  "nbformat": 4,
  "nbformat_minor": 0
}